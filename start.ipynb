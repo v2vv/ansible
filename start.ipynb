{
 "cells": [
  {
   "cell_type": "code",
   "execution_count": null,
   "metadata": {},
   "outputs": [],
   "source": [
    "# 运行 default 主机 hello\n",
    "!ansible-playbook -i roles/backup/files/hosts -l default playbooks.yaml -vv --tags hello"
   ]
  },
  {
   "cell_type": "code",
   "execution_count": null,
   "metadata": {},
   "outputs": [],
   "source": [
    "!ansible-playbook -i roles/softwareinstall/files/hosts -l default playbooks.yaml -vvv --tags softwareinstall -e  \"$(grep -v '^#' /workspaces/ansible/roles/softwareinstall/files/.env | awk -F '=' '{print $1\"=\"$2}')\""
   ]
  },
  {
   "cell_type": "code",
   "execution_count": null,
   "metadata": {},
   "outputs": [],
   "source": [
    "%pip install python-dotenv"
   ]
  },
  {
   "cell_type": "code",
   "execution_count": null,
   "metadata": {},
   "outputs": [],
   "source": [
    "from dotenv import load_dotenv\n",
    "import os\n",
    "\n",
    "# 加载最新的 .env 文件\n",
    "# load_dotenv(override=True)\n",
    "load_dotenv(dotenv_path=\"roles/softwareinstall/files/.env\", override=True)\n",
    "\n",
    "# 设置参数\n",
    "client_id = os.getenv('client_id')\n",
    "client_secret = os.getenv('client_secret')\n",
    "tenant_id = os.getenv('tenant_id')  # 通常是目录 (tenant) ID\n",
    "oneDrivePath = os.getenv('oneDrivePath')\n",
    "localFilePath = os.getenv('localFilePath')\n",
    "\n",
    "# !echo \"localFilePathl=$localFilePath oneDrivePath=$oneDrivePath client_id=$client_id client_secret=$client_secret tenant_id=$tenant_id backup_soft_name=alist\"\n",
    "\n",
    "!ansible-playbook -i roles/softwareinstall/files/hosts -l default playbooks.yaml -vvv --tags softwareinstall -e \"localFilePath=$localFilePath oneDrivePath=$oneDrivePath client_id=$client_id client_secret=$client_secret tenant_id=$tenant_id backup_soft_name=ddns-go\""
   ]
  },
  {
   "cell_type": "code",
   "execution_count": null,
   "metadata": {},
   "outputs": [],
   "source": [
    "! ./restore.sh  $(grep -v '^#' .env | awk -F '=' '{print $2}')\n",
    "echo \"$(grep -v '^#' .env | awk -F '=' '{print $1\"=\"$2}')\"\n",
    "echo \"$(grep -v '^#' .env | awk -F '=' '{print $1\"=\"$2}' | tr '\\n' ' ')\"\n",
    "echo \"$(grep -v '^#' .env | awk -F '=' '{print $2}' | tr '\\n' ' ')\"\n"
   ]
  }
 ],
 "metadata": {
  "kernelspec": {
   "display_name": "Python 3 (ipykernel)",
   "language": "python",
   "name": "python3"
  },
  "language_info": {
   "codemirror_mode": {
    "name": "ipython",
    "version": 3
   },
   "file_extension": ".py",
   "mimetype": "text/x-python",
   "name": "python",
   "nbconvert_exporter": "python",
   "pygments_lexer": "ipython3",
   "version": "3.12.3"
  }
 },
 "nbformat": 4,
 "nbformat_minor": 2
}
